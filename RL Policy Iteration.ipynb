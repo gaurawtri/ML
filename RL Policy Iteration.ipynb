{
 "cells": [
  {
   "cell_type": "code",
   "execution_count": 1,
   "id": "5a44e1a0",
   "metadata": {},
   "outputs": [],
   "source": [
    "# Arguments\n",
    "REWARD = -0.1 # constant reward for non-terminal states\n",
    "DISCOUNT = 0.7\n",
    "MAX_ERROR = 10**(-3)"
   ]
  },
  {
   "cell_type": "code",
   "execution_count": 2,
   "id": "02e49df0",
   "metadata": {},
   "outputs": [],
   "source": [
    "import random"
   ]
  },
  {
   "cell_type": "code",
   "execution_count": 3,
   "id": "279dc9cf",
   "metadata": {},
   "outputs": [],
   "source": [
    "# Set up the initial environment\n",
    "NUM_ACTIONS = 4\n",
    "ACTIONS = [(1, 0), (0, -1), (-1, 0), (0, 1)] # Down, Left, Up, Right\n",
    "NUM_ROW = 4\n",
    "NUM_COL = 4\n",
    "U = [[0, 0, 0, -2], [0, 0, 0, 0], [0, 0, 0, 0], [0, 0, 0, 2]]\n",
    "policy = [[random.randint(1, 3) for j in range(NUM_COL)] for i in range(NUM_ROW)] # construct a random policy"
   ]
  },
  {
   "cell_type": "code",
   "execution_count": 4,
   "id": "fa399f6d",
   "metadata": {},
   "outputs": [],
   "source": [
    "# Visualization\n",
    "def printEnvironment(arr, policy=False):\n",
    "    res = \"\"\n",
    "    for r in range(NUM_ROW):\n",
    "        res += \"|\"\n",
    "        for c in range(NUM_COL):\n",
    "            if r ==1 and c == 2:\n",
    "                val = \"WALL\"\n",
    "            elif r ==0  and c == 3:\n",
    "                val = \"-2\"    \n",
    "            elif r == 3 and c==3:\n",
    "                val = \"2\"\n",
    "            else:\n",
    "                val = [\"Down\", \"Left\", \"Up\", \"Right\"][arr[r][c]]\n",
    "            res += \" \" + val[:5].ljust(5) + \" |\" # format\n",
    "        res += \"\\n\"\n",
    "    print(res)"
   ]
  },
  {
   "cell_type": "code",
   "execution_count": 5,
   "id": "cd981212",
   "metadata": {},
   "outputs": [],
   "source": [
    "# Get the utility of the state reached by performing the given action from the given state\n",
    "def getU(U, r, c, action):\n",
    "    dr, dc = ACTIONS[action]\n",
    "    newR, newC = r+dr, c+dc\n",
    "    if newR < 0 or newC < 0 or newR >= NUM_ROW or newC >= NUM_COL or (newR == newC == 1): # collide with the boundary or the wall\n",
    "        return U[r][c]\n",
    "    else:\n",
    "        return U[newR][newC]"
   ]
  },
  {
   "cell_type": "code",
   "execution_count": 6,
   "id": "c881009d",
   "metadata": {},
   "outputs": [],
   "source": [
    "# Calculate the utility of a state given an action\n",
    "def calculateU(U, r, c, action):\n",
    "    u = REWARD\n",
    "    u += 0.2 * DISCOUNT * getU(U, r, c, (action-1)%4)\n",
    "    u += 0.6 * DISCOUNT * getU(U, r, c, action)\n",
    "    u += 0.2 * DISCOUNT * getU(U, r, c, (action+1)%4)\n",
    "    return u"
   ]
  },
  {
   "cell_type": "code",
   "execution_count": 7,
   "id": "079ee3a6",
   "metadata": {},
   "outputs": [],
   "source": [
    "# Perform some simplified value iteration steps to get an approximation of the utilities\n",
    "def policyEvaluation(policy, U):\n",
    "    while True:\n",
    "        nextU = [[0, 0, 0, -2], [0, 0, 0, 0], [0, 0, 0, 0], [0, 0, 0, 2]]\n",
    "        error = 0\n",
    "        for r in range(NUM_ROW):\n",
    "            for c in range(NUM_COL):\n",
    "                if (r == 0 and c == 3) or (r == 3 and c == 3) or (r == 1 and c == 2):\n",
    "                    continue\n",
    "                nextU[r][c] = calculateU(U, r, c, policy[r][c]) # simplified Bellman update\n",
    "                error = max(error, abs(nextU[r][c]-U[r][c]))\n",
    "        U = nextU\n",
    "        if error < MAX_ERROR * (1-DISCOUNT) / DISCOUNT:\n",
    "            break\n",
    "    return U"
   ]
  },
  {
   "cell_type": "code",
   "execution_count": 8,
   "id": "a723cb44",
   "metadata": {},
   "outputs": [],
   "source": [
    "def policyIteration(policy, U):\n",
    "    print(\"During the policy iteration:\\n\")\n",
    "    while True:\n",
    "        U = policyEvaluation(policy, U)\n",
    "        unchanged = True\n",
    "        for r in range(NUM_ROW):\n",
    "            for c in range(NUM_COL):\n",
    "                if (r == 0 and c == 3) or (r == 3 and c == 3) or (r == 1 and c == 2):\n",
    "                    continue\n",
    "                maxAction, maxU = None, -float(\"inf\")\n",
    "                for action in range(NUM_ACTIONS):\n",
    "                    u = calculateU(U, r, c, action)\n",
    "                    if u > maxU:\n",
    "                        maxAction, maxU = action, u\n",
    "                if maxU > calculateU(U, r, c, policy[r][c]):\n",
    "                    policy[r][c] = maxAction # the action that maximizes the utility\n",
    "                    unchanged = False\n",
    "        if unchanged:\n",
    "            break\n",
    "        printEnvironment(policy)\n",
    "    return policy"
   ]
  },
  {
   "cell_type": "code",
   "execution_count": 9,
   "id": "a3c7216b",
   "metadata": {},
   "outputs": [
    {
     "name": "stdout",
     "output_type": "stream",
     "text": [
      "The initial random policy is:\n",
      "\n",
      "| Right | Up    | Right | -2    |\n",
      "| Up    | Up    | WALL  | Left  |\n",
      "| Right | Up    | Left  | Up    |\n",
      "| Up    | Right | Left  | 2     |\n",
      "\n"
     ]
    }
   ],
   "source": [
    "# Print the initial environment\n",
    "print(\"The initial random policy is:\\n\")\n",
    "printEnvironment(policy)"
   ]
  },
  {
   "cell_type": "code",
   "execution_count": 10,
   "id": "4a9139a0",
   "metadata": {},
   "outputs": [
    {
     "name": "stdout",
     "output_type": "stream",
     "text": [
      "During the policy iteration:\n",
      "\n",
      "| Left  | Left  | Down  | -2    |\n",
      "| Down  | Right | WALL  | Down  |\n",
      "| Down  | Right | Up    | Down  |\n",
      "| Right | Right | Right | 2     |\n",
      "\n",
      "| Down  | Left  | Left  | -2    |\n",
      "| Down  | Right | WALL  | Down  |\n",
      "| Down  | Down  | Right | Down  |\n",
      "| Right | Right | Right | 2     |\n",
      "\n",
      "| Down  | Left  | Left  | -2    |\n",
      "| Down  | Down  | WALL  | Down  |\n",
      "| Down  | Right | Down  | Down  |\n",
      "| Right | Right | Right | 2     |\n",
      "\n",
      "| Down  | Left  | Left  | -2    |\n",
      "| Down  | Down  | WALL  | Down  |\n",
      "| Right | Right | Down  | Down  |\n",
      "| Right | Right | Right | 2     |\n",
      "\n"
     ]
    }
   ],
   "source": [
    "# Policy iteration\n",
    "policy = policyIteration(policy, U)"
   ]
  },
  {
   "cell_type": "code",
   "execution_count": 11,
   "id": "4f6e9878",
   "metadata": {},
   "outputs": [
    {
     "name": "stdout",
     "output_type": "stream",
     "text": [
      "The optimal policy is:\n",
      "\n",
      "| Down  | Left  | Left  | -2    |\n",
      "| Down  | Down  | WALL  | Down  |\n",
      "| Right | Right | Down  | Down  |\n",
      "| Right | Right | Right | 2     |\n",
      "\n"
     ]
    }
   ],
   "source": [
    "# Print the optimal policy\n",
    "print(\"The optimal policy is:\\n\")\n",
    "printEnvironment(policy)"
   ]
  }
 ],
 "metadata": {
  "kernelspec": {
   "display_name": "Python 3 (ipykernel)",
   "language": "python",
   "name": "python3"
  },
  "language_info": {
   "codemirror_mode": {
    "name": "ipython",
    "version": 3
   },
   "file_extension": ".py",
   "mimetype": "text/x-python",
   "name": "python",
   "nbconvert_exporter": "python",
   "pygments_lexer": "ipython3",
   "version": "3.9.7"
  }
 },
 "nbformat": 4,
 "nbformat_minor": 5
}
