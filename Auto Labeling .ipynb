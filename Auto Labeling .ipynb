{
 "cells": [
  {
   "cell_type": "code",
   "execution_count": 1,
   "metadata": {},
   "outputs": [
    {
     "name": "stdout",
     "output_type": "stream",
     "text": [
      "['The launch of international trade in Indian rupees could lead to annual savings of $30-36 billion in hard currency and widen the scope for such trades with countries in the region, easing pressure on the exchange rate, experts told ET.\\n', '\\n', \"The mechanism, which can be kicked off without delay with Russia, may be favourable for Indian government bonds as well. The surplus balance held in a special vostro account to be opened under the rupee payment mechanism can be used for investing in the local capital market by entities based in India's trading partners under the bespoke model.\\n\", '\\n', '\"When a country faces a record high current account deficit, such rupee-denominated trades with select countries save dollar outflows on account of imports,\" said Bank of Baroda NSE -1.09 % chief economist Madan Sabnavis.']\n"
     ]
    }
   ],
   "source": [
    "items = open(\"C:\\\\Users\\\\Gauraw\\\\Desktop\\\\test.txt\", 'r')\n",
    "readitems=(items.readlines())\n",
    "print(readitems)"
   ]
  },
  {
   "cell_type": "code",
   "execution_count": 2,
   "metadata": {},
   "outputs": [
    {
     "name": "stderr",
     "output_type": "stream",
     "text": [
      "[nltk_data] Downloading package stopwords to\n",
      "[nltk_data]     C:\\Users\\Gauraw\\AppData\\Roaming\\nltk_data...\n",
      "[nltk_data]   Package stopwords is already up-to-date!\n"
     ]
    }
   ],
   "source": [
    "import re\n",
    "import pandas as pd\n",
    "import string\n",
    "import nltk\n",
    "nltk.download('stopwords')\n",
    "from nltk.corpus import stopwords\n"
   ]
  },
  {
   "cell_type": "code",
   "execution_count": 3,
   "metadata": {},
   "outputs": [
    {
     "name": "stdout",
     "output_type": "stream",
     "text": [
      "Requirement already satisfied: snorkel in c:\\users\\gauraw\\anaconda3\\lib\\site-packages (0.9.8)\n",
      "Requirement already satisfied: scikit-learn<0.25.0,>=0.20.2 in c:\\users\\gauraw\\anaconda3\\lib\\site-packages (from snorkel) (0.24.2)\n",
      "Requirement already satisfied: networkx<2.7,>=2.2 in c:\\users\\gauraw\\anaconda3\\lib\\site-packages (from snorkel) (2.6.3)\n",
      "Requirement already satisfied: numpy<1.20.0,>=1.16.5 in c:\\users\\gauraw\\anaconda3\\lib\\site-packages (from snorkel) (1.19.5)\n",
      "Requirement already satisfied: scipy<2.0.0,>=1.2.0 in c:\\users\\gauraw\\anaconda3\\lib\\site-packages (from snorkel) (1.7.1)\n",
      "Requirement already satisfied: torch<2.0.0,>=1.2.0 in c:\\users\\gauraw\\anaconda3\\lib\\site-packages (from snorkel) (1.12.0)\n",
      "Requirement already satisfied: munkres>=1.0.6 in c:\\users\\gauraw\\anaconda3\\lib\\site-packages (from snorkel) (1.1.4)\n",
      "Requirement already satisfied: pandas<2.0.0,>=1.0.0 in c:\\users\\gauraw\\anaconda3\\lib\\site-packages (from snorkel) (1.3.4)\n",
      "Requirement already satisfied: tensorboard<2.7.0,>=2.0.0 in c:\\users\\gauraw\\anaconda3\\lib\\site-packages (from snorkel) (2.6.0)\n",
      "Requirement already satisfied: tqdm<5.0.0,>=4.33.0 in c:\\users\\gauraw\\anaconda3\\lib\\site-packages (from snorkel) (4.62.3)\n",
      "Requirement already satisfied: python-dateutil>=2.7.3 in c:\\users\\gauraw\\anaconda3\\lib\\site-packages (from pandas<2.0.0,>=1.0.0->snorkel) (2.8.2)\n",
      "Requirement already satisfied: pytz>=2017.3 in c:\\users\\gauraw\\anaconda3\\lib\\site-packages (from pandas<2.0.0,>=1.0.0->snorkel) (2021.3)\n",
      "Requirement already satisfied: six>=1.5 in c:\\users\\gauraw\\anaconda3\\lib\\site-packages (from python-dateutil>=2.7.3->pandas<2.0.0,>=1.0.0->snorkel) (1.16.0)\n",
      "Requirement already satisfied: threadpoolctl>=2.0.0 in c:\\users\\gauraw\\anaconda3\\lib\\site-packages (from scikit-learn<0.25.0,>=0.20.2->snorkel) (2.2.0)\n",
      "Requirement already satisfied: joblib>=0.11 in c:\\users\\gauraw\\anaconda3\\lib\\site-packages (from scikit-learn<0.25.0,>=0.20.2->snorkel) (1.1.0)\n",
      "Requirement already satisfied: tensorboard-plugin-wit>=1.6.0 in c:\\users\\gauraw\\anaconda3\\lib\\site-packages (from tensorboard<2.7.0,>=2.0.0->snorkel) (1.8.1)\n",
      "Requirement already satisfied: grpcio>=1.24.3 in c:\\users\\gauraw\\anaconda3\\lib\\site-packages (from tensorboard<2.7.0,>=2.0.0->snorkel) (1.47.0)\n",
      "Requirement already satisfied: markdown>=2.6.8 in c:\\users\\gauraw\\anaconda3\\lib\\site-packages (from tensorboard<2.7.0,>=2.0.0->snorkel) (3.4.1)\n",
      "Requirement already satisfied: google-auth<2,>=1.6.3 in c:\\users\\gauraw\\anaconda3\\lib\\site-packages (from tensorboard<2.7.0,>=2.0.0->snorkel) (1.35.0)\n",
      "Requirement already satisfied: requests<3,>=2.21.0 in c:\\users\\gauraw\\anaconda3\\lib\\site-packages (from tensorboard<2.7.0,>=2.0.0->snorkel) (2.27.1)\n",
      "Requirement already satisfied: wheel>=0.26 in c:\\users\\gauraw\\anaconda3\\lib\\site-packages (from tensorboard<2.7.0,>=2.0.0->snorkel) (0.37.0)\n",
      "Requirement already satisfied: protobuf>=3.6.0 in c:\\users\\gauraw\\anaconda3\\lib\\site-packages (from tensorboard<2.7.0,>=2.0.0->snorkel) (4.21.2)\n",
      "Requirement already satisfied: tensorboard-data-server<0.7.0,>=0.6.0 in c:\\users\\gauraw\\anaconda3\\lib\\site-packages (from tensorboard<2.7.0,>=2.0.0->snorkel) (0.6.1)\n",
      "Requirement already satisfied: absl-py>=0.4 in c:\\users\\gauraw\\anaconda3\\lib\\site-packages (from tensorboard<2.7.0,>=2.0.0->snorkel) (1.1.0)\n",
      "Requirement already satisfied: werkzeug>=0.11.15 in c:\\users\\gauraw\\anaconda3\\lib\\site-packages (from tensorboard<2.7.0,>=2.0.0->snorkel) (2.0.2)\n",
      "Requirement already satisfied: google-auth-oauthlib<0.5,>=0.4.1 in c:\\users\\gauraw\\anaconda3\\lib\\site-packages (from tensorboard<2.7.0,>=2.0.0->snorkel) (0.4.6)\n",
      "Requirement already satisfied: setuptools>=41.0.0 in c:\\users\\gauraw\\anaconda3\\lib\\site-packages (from tensorboard<2.7.0,>=2.0.0->snorkel) (58.0.4)\n",
      "Requirement already satisfied: rsa<5,>=3.1.4 in c:\\users\\gauraw\\anaconda3\\lib\\site-packages (from google-auth<2,>=1.6.3->tensorboard<2.7.0,>=2.0.0->snorkel) (4.8)\n",
      "Requirement already satisfied: pyasn1-modules>=0.2.1 in c:\\users\\gauraw\\anaconda3\\lib\\site-packages (from google-auth<2,>=1.6.3->tensorboard<2.7.0,>=2.0.0->snorkel) (0.2.8)\n",
      "Requirement already satisfied: cachetools<5.0,>=2.0.0 in c:\\users\\gauraw\\anaconda3\\lib\\site-packages (from google-auth<2,>=1.6.3->tensorboard<2.7.0,>=2.0.0->snorkel) (4.2.4)\n",
      "Requirement already satisfied: requests-oauthlib>=0.7.0 in c:\\users\\gauraw\\anaconda3\\lib\\site-packages (from google-auth-oauthlib<0.5,>=0.4.1->tensorboard<2.7.0,>=2.0.0->snorkel) (1.3.1)\n",
      "Requirement already satisfied: importlib-metadata>=4.4 in c:\\users\\gauraw\\anaconda3\\lib\\site-packages (from markdown>=2.6.8->tensorboard<2.7.0,>=2.0.0->snorkel) (4.12.0)\n",
      "Requirement already satisfied: zipp>=0.5 in c:\\users\\gauraw\\anaconda3\\lib\\site-packages (from importlib-metadata>=4.4->markdown>=2.6.8->tensorboard<2.7.0,>=2.0.0->snorkel) (3.6.0)\n",
      "Requirement already satisfied: pyasn1<0.5.0,>=0.4.6 in c:\\users\\gauraw\\anaconda3\\lib\\site-packages (from pyasn1-modules>=0.2.1->google-auth<2,>=1.6.3->tensorboard<2.7.0,>=2.0.0->snorkel) (0.4.8)\n",
      "Requirement already satisfied: idna<4,>=2.5 in c:\\users\\gauraw\\anaconda3\\lib\\site-packages (from requests<3,>=2.21.0->tensorboard<2.7.0,>=2.0.0->snorkel) (3.2)\n",
      "Requirement already satisfied: urllib3<1.27,>=1.21.1 in c:\\users\\gauraw\\anaconda3\\lib\\site-packages (from requests<3,>=2.21.0->tensorboard<2.7.0,>=2.0.0->snorkel) (1.26.7)\n",
      "Requirement already satisfied: charset-normalizer~=2.0.0 in c:\\users\\gauraw\\anaconda3\\lib\\site-packages (from requests<3,>=2.21.0->tensorboard<2.7.0,>=2.0.0->snorkel) (2.0.4)\n",
      "Requirement already satisfied: certifi>=2017.4.17 in c:\\users\\gauraw\\anaconda3\\lib\\site-packages (from requests<3,>=2.21.0->tensorboard<2.7.0,>=2.0.0->snorkel) (2021.10.8)\n",
      "Requirement already satisfied: oauthlib>=3.0.0 in c:\\users\\gauraw\\anaconda3\\lib\\site-packages (from requests-oauthlib>=0.7.0->google-auth-oauthlib<0.5,>=0.4.1->tensorboard<2.7.0,>=2.0.0->snorkel) (3.2.0)\n",
      "Requirement already satisfied: typing-extensions in c:\\users\\gauraw\\anaconda3\\lib\\site-packages (from torch<2.0.0,>=1.2.0->snorkel) (3.10.0.2)\n",
      "Requirement already satisfied: colorama in c:\\users\\gauraw\\anaconda3\\lib\\site-packages (from tqdm<5.0.0,>=4.33.0->snorkel) (0.4.4)\n"
     ]
    }
   ],
   "source": [
    "!pip install snorkel"
   ]
  },
  {
   "cell_type": "code",
   "execution_count": 4,
   "metadata": {},
   "outputs": [
    {
     "data": {
      "text/html": [
       "<div>\n",
       "<style scoped>\n",
       "    .dataframe tbody tr th:only-of-type {\n",
       "        vertical-align: middle;\n",
       "    }\n",
       "\n",
       "    .dataframe tbody tr th {\n",
       "        vertical-align: top;\n",
       "    }\n",
       "\n",
       "    .dataframe thead th {\n",
       "        text-align: right;\n",
       "    }\n",
       "</style>\n",
       "<table border=\"1\" class=\"dataframe\">\n",
       "  <thead>\n",
       "    <tr style=\"text-align: right;\">\n",
       "      <th></th>\n",
       "      <th>0</th>\n",
       "    </tr>\n",
       "  </thead>\n",
       "  <tbody>\n",
       "    <tr>\n",
       "      <th>0</th>\n",
       "      <td>The launch of international trade in Indian ru...</td>\n",
       "    </tr>\n",
       "    <tr>\n",
       "      <th>1</th>\n",
       "      <td>\\n\\nThe mechanism, which can be kicked off wit...</td>\n",
       "    </tr>\n",
       "    <tr>\n",
       "      <th>2</th>\n",
       "      <td>The surplus balance held in a special vostro ...</td>\n",
       "    </tr>\n",
       "    <tr>\n",
       "      <th>3</th>\n",
       "      <td>\\n\\n\"When a country faces a record high curren...</td>\n",
       "    </tr>\n",
       "    <tr>\n",
       "      <th>4</th>\n",
       "      <td>09 % chief economist Madan Sabnavis\\n</td>\n",
       "    </tr>\n",
       "    <tr>\n",
       "      <th>5</th>\n",
       "      <td>\\n</td>\n",
       "    </tr>\n",
       "  </tbody>\n",
       "</table>\n",
       "</div>"
      ],
      "text/plain": [
       "                                                   0\n",
       "0  The launch of international trade in Indian ru...\n",
       "1  \\n\\nThe mechanism, which can be kicked off wit...\n",
       "2   The surplus balance held in a special vostro ...\n",
       "3  \\n\\n\"When a country faces a record high curren...\n",
       "4              09 % chief economist Madan Sabnavis\\n\n",
       "5                                                 \\n"
      ]
     },
     "execution_count": 4,
     "metadata": {},
     "output_type": "execute_result"
    }
   ],
   "source": [
    "string = []    \n",
    "with open(\"C:\\\\Users\\\\Gauraw\\\\Desktop\\\\test.txt\", \"r\") as f:\n",
    "    full_text = f.read()\n",
    "    for l in re.split(r\"(\\.)\", full_text):\n",
    "        if l != \".\":\n",
    "            string.append(l + \"\\n\")\n",
    "pd.DataFrame(string)"
   ]
  },
  {
   "cell_type": "code",
   "execution_count": 5,
   "metadata": {},
   "outputs": [
    {
     "name": "stdout",
     "output_type": "stream",
     "text": [
      "                                             article\n",
      "0  The launch of international trade in Indian ru...\n",
      "1  \\n\\nThe mechanism, which can be kicked off wit...\n",
      "2   The surplus balance held in a special vostro ...\n",
      "3  \\n\\n\"When a country faces a record high curren...\n",
      "4              09 % chief economist Madan Sabnavis\\n\n",
      "5                                                 \\n\n"
     ]
    }
   ],
   "source": [
    "df=pd.DataFrame(string, columns=[\"article\"])\n",
    "print(df)"
   ]
  },
  {
   "cell_type": "code",
   "execution_count": 6,
   "metadata": {},
   "outputs": [
    {
     "data": {
      "text/html": [
       "<div>\n",
       "<style scoped>\n",
       "    .dataframe tbody tr th:only-of-type {\n",
       "        vertical-align: middle;\n",
       "    }\n",
       "\n",
       "    .dataframe tbody tr th {\n",
       "        vertical-align: top;\n",
       "    }\n",
       "\n",
       "    .dataframe thead th {\n",
       "        text-align: right;\n",
       "    }\n",
       "</style>\n",
       "<table border=\"1\" class=\"dataframe\">\n",
       "  <thead>\n",
       "    <tr style=\"text-align: right;\">\n",
       "      <th></th>\n",
       "      <th>article</th>\n",
       "    </tr>\n",
       "  </thead>\n",
       "  <tbody>\n",
       "    <tr>\n",
       "      <th>0</th>\n",
       "      <td>The launch of international trade in Indian ru...</td>\n",
       "    </tr>\n",
       "    <tr>\n",
       "      <th>1</th>\n",
       "      <td>\\n\\nThe mechanism, which can be kicked off wit...</td>\n",
       "    </tr>\n",
       "    <tr>\n",
       "      <th>2</th>\n",
       "      <td>The surplus balance held in a special vostro ...</td>\n",
       "    </tr>\n",
       "    <tr>\n",
       "      <th>3</th>\n",
       "      <td>\\n\\n\"When a country faces a record high curren...</td>\n",
       "    </tr>\n",
       "    <tr>\n",
       "      <th>4</th>\n",
       "      <td>09 % chief economist Madan Sabnavis\\n</td>\n",
       "    </tr>\n",
       "  </tbody>\n",
       "</table>\n",
       "</div>"
      ],
      "text/plain": [
       "                                             article\n",
       "0  The launch of international trade in Indian ru...\n",
       "1  \\n\\nThe mechanism, which can be kicked off wit...\n",
       "2   The surplus balance held in a special vostro ...\n",
       "3  \\n\\n\"When a country faces a record high curren...\n",
       "4              09 % chief economist Madan Sabnavis\\n"
      ]
     },
     "execution_count": 6,
     "metadata": {},
     "output_type": "execute_result"
    }
   ],
   "source": [
    "df.head()"
   ]
  },
  {
   "cell_type": "code",
   "execution_count": 7,
   "metadata": {},
   "outputs": [],
   "source": [
    "stop_words = stopwords.words('english')\n",
    "df['article'] = df['article'].apply(lambda x: ' '.join([word for word in x.split() if word not in (stop_words)]))"
   ]
  },
  {
   "cell_type": "code",
   "execution_count": 8,
   "metadata": {},
   "outputs": [],
   "source": [
    "df.replace('\\d+', '', regex=True, inplace=True)"
   ]
  },
  {
   "cell_type": "code",
   "execution_count": 9,
   "metadata": {},
   "outputs": [
    {
     "name": "stdout",
     "output_type": "stream",
     "text": [
      "                                             article\n",
      "0  the launch international trade indian rupees c...\n",
      "1  the mechanism, kicked without delay russia, ma...\n",
      "2  the surplus balance held special vostro accoun...\n",
      "3  \"when country faces record high current accoun...\n",
      "4                   % chief economist madan sabnavis\n",
      "5                                                   \n"
     ]
    }
   ],
   "source": [
    "df['article'] = df['article'].apply(str.lower)\n",
    "print(df)"
   ]
  },
  {
   "cell_type": "code",
   "execution_count": 10,
   "metadata": {},
   "outputs": [],
   "source": [
    "from sklearn.model_selection import train_test_split"
   ]
  },
  {
   "cell_type": "code",
   "execution_count": 11,
   "metadata": {},
   "outputs": [],
   "source": [
    "df_train,df_test = train_test_split(df,train_size=0.5)"
   ]
  },
  {
   "cell_type": "code",
   "execution_count": 12,
   "metadata": {},
   "outputs": [
    {
     "name": "stdout",
     "output_type": "stream",
     "text": [
      "(3, 1)\n"
     ]
    }
   ],
   "source": [
    "print(df_train.shape)"
   ]
  },
  {
   "cell_type": "code",
   "execution_count": 13,
   "metadata": {},
   "outputs": [],
   "source": [
    "from snorkel.labeling import labeling_function"
   ]
  },
  {
   "cell_type": "code",
   "execution_count": 14,
   "metadata": {},
   "outputs": [],
   "source": [
    "trade = 1\n",
    "ABSTAIN = -1"
   ]
  },
  {
   "cell_type": "code",
   "execution_count": 15,
   "metadata": {},
   "outputs": [],
   "source": [
    "@labeling_function()\n",
    "def lf_keyword_lookup(x):\n",
    "  keywords = [\"currency\",\"international\"]\n",
    "  return trade if any(word in x.article.lower() for word in keywords) else ABSTAIN"
   ]
  },
  {
   "cell_type": "code",
   "execution_count": 16,
   "metadata": {},
   "outputs": [],
   "source": [
    "@labeling_function()\n",
    "def lf_keyword2_lookup(x):\n",
    "  keywords = [\"dollar\",\"rupee\"]\n",
    "  return trade if any(word in x.article.lower() for word in keywords) else ABSTAIN"
   ]
  },
  {
   "cell_type": "code",
   "execution_count": 17,
   "metadata": {},
   "outputs": [],
   "source": [
    "@labeling_function()\n",
    "def lf_keyword3_lookup(x):\n",
    "  keywords = [\"country\",\"account\"]\n",
    "  return trade if any(word in x.article.lower() for word in keywords) else ABSTAIN"
   ]
  },
  {
   "cell_type": "code",
   "execution_count": 18,
   "metadata": {},
   "outputs": [],
   "source": [
    "lfs = [lf_keyword_lookup,lf_keyword2_lookup,lf_keyword3_lookup]"
   ]
  },
  {
   "cell_type": "code",
   "execution_count": 19,
   "metadata": {},
   "outputs": [],
   "source": [
    "from snorkel.labeling import PandasLFApplier"
   ]
  },
  {
   "cell_type": "code",
   "execution_count": 20,
   "metadata": {},
   "outputs": [],
   "source": [
    "applier = PandasLFApplier(lfs=lfs)"
   ]
  },
  {
   "cell_type": "code",
   "execution_count": 21,
   "metadata": {},
   "outputs": [
    {
     "name": "stderr",
     "output_type": "stream",
     "text": [
      "100%|██████████████████████████████████████████████████████████████████████████████████| 3/3 [00:00<00:00, 2993.08it/s]\n"
     ]
    }
   ],
   "source": [
    "L_train = applier.apply(df=df_train)"
   ]
  },
  {
   "cell_type": "code",
   "execution_count": 22,
   "metadata": {},
   "outputs": [],
   "source": [
    "from snorkel.labeling.model import LabelModel"
   ]
  },
  {
   "cell_type": "code",
   "execution_count": 23,
   "metadata": {},
   "outputs": [
    {
     "name": "stderr",
     "output_type": "stream",
     "text": [
      "INFO:root:Computing O...\n",
      "INFO:root:Estimating \\mu...\n",
      "  0%|                                                                                       | 0/500 [00:00<?, ?epoch/s]INFO:root:[0 epochs]: TRAIN:[loss=0.388]\n",
      "INFO:root:[100 epochs]: TRAIN:[loss=0.033]\n",
      "INFO:root:[200 epochs]: TRAIN:[loss=0.028]\n",
      " 41%|██████████████████████████████▋                                            | 205/500 [00:00<00:00, 2032.74epoch/s]INFO:root:[300 epochs]: TRAIN:[loss=0.026]\n",
      "INFO:root:[400 epochs]: TRAIN:[loss=0.025]\n",
      "100%|███████████████████████████████████████████████████████████████████████████| 500/500 [00:00<00:00, 2053.36epoch/s]\n",
      "INFO:root:Finished Training\n"
     ]
    }
   ],
   "source": [
    "label_model = LabelModel(cardinality=2,verbose=True)\n",
    "label_model.fit(L_train=L_train,n_epochs=500,log_freq=100,seed=123)"
   ]
  },
  {
   "cell_type": "code",
   "execution_count": 24,
   "metadata": {},
   "outputs": [
    {
     "name": "stderr",
     "output_type": "stream",
     "text": [
      "C:\\Users\\Gauraw\\AppData\\Local\\Temp/ipykernel_6928/1145111523.py:1: SettingWithCopyWarning: \n",
      "A value is trying to be set on a copy of a slice from a DataFrame.\n",
      "Try using .loc[row_indexer,col_indexer] = value instead\n",
      "\n",
      "See the caveats in the documentation: https://pandas.pydata.org/pandas-docs/stable/user_guide/indexing.html#returning-a-view-versus-a-copy\n",
      "  df_train['Labels'] = label_model.predict(L=L_train,tie_break_policy=\"abstain\")\n"
     ]
    }
   ],
   "source": [
    "df_train['Labels'] = label_model.predict(L=L_train,tie_break_policy=\"abstain\")"
   ]
  },
  {
   "cell_type": "code",
   "execution_count": 25,
   "metadata": {},
   "outputs": [
    {
     "data": {
      "text/html": [
       "<div>\n",
       "<style scoped>\n",
       "    .dataframe tbody tr th:only-of-type {\n",
       "        vertical-align: middle;\n",
       "    }\n",
       "\n",
       "    .dataframe tbody tr th {\n",
       "        vertical-align: top;\n",
       "    }\n",
       "\n",
       "    .dataframe thead th {\n",
       "        text-align: right;\n",
       "    }\n",
       "</style>\n",
       "<table border=\"1\" class=\"dataframe\">\n",
       "  <thead>\n",
       "    <tr style=\"text-align: right;\">\n",
       "      <th></th>\n",
       "      <th>article</th>\n",
       "      <th>Labels</th>\n",
       "    </tr>\n",
       "  </thead>\n",
       "  <tbody>\n",
       "    <tr>\n",
       "      <th>0</th>\n",
       "      <td>the launch international trade indian rupees c...</td>\n",
       "      <td>1</td>\n",
       "    </tr>\n",
       "    <tr>\n",
       "      <th>3</th>\n",
       "      <td>\"when country faces record high current accoun...</td>\n",
       "      <td>1</td>\n",
       "    </tr>\n",
       "    <tr>\n",
       "      <th>5</th>\n",
       "      <td></td>\n",
       "      <td>-1</td>\n",
       "    </tr>\n",
       "  </tbody>\n",
       "</table>\n",
       "</div>"
      ],
      "text/plain": [
       "                                             article  Labels\n",
       "0  the launch international trade indian rupees c...       1\n",
       "3  \"when country faces record high current accoun...       1\n",
       "5                                                         -1"
      ]
     },
     "execution_count": 25,
     "metadata": {},
     "output_type": "execute_result"
    }
   ],
   "source": [
    "df_train"
   ]
  }
 ],
 "metadata": {
  "kernelspec": {
   "display_name": "Python 3 (ipykernel)",
   "language": "python",
   "name": "python3"
  },
  "language_info": {
   "codemirror_mode": {
    "name": "ipython",
    "version": 3
   },
   "file_extension": ".py",
   "mimetype": "text/x-python",
   "name": "python",
   "nbconvert_exporter": "python",
   "pygments_lexer": "ipython3",
   "version": "3.9.7"
  }
 },
 "nbformat": 4,
 "nbformat_minor": 2
}
