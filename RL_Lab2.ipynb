{
 "cells": [
  {
   "cell_type": "markdown",
   "id": "9e8d898c",
   "metadata": {},
   "source": [
    "# Implementation of value iteration algorithm\n",
    "\n",
    "This is a simple 4 x 4 environment, and each block represents a state. The agent can move left, right, up, or down from a state. The \"intended\" outcome occurs with probability 0.6, but with probability 0.2 the agent moves at right angles to the intended direction. A collision with the wall or boundary results in no movement. The two terminal states have reward -2 and 2, respectively, and all other states have a constant reward of -0.1."
   ]
  },
  {
   "cell_type": "markdown",
   "id": "f99d2d7a",
   "metadata": {},
   "source": [
    "Implementing Value iternation:"
   ]
  },
  {
   "cell_type": "code",
   "execution_count": 1,
   "id": "5a44e1a0",
   "metadata": {},
   "outputs": [],
   "source": [
    "# Arguments\n",
    "REWARD = -0.1 # constant reward for non-terminal states\n",
    "DISCOUNT = 0.7\n",
    "MAX_ERROR = 10**(-3)"
   ]
  },
  {
   "cell_type": "code",
   "execution_count": 2,
   "id": "02e49df0",
   "metadata": {},
   "outputs": [],
   "source": [
    "import random"
   ]
  },
  {
   "cell_type": "code",
   "execution_count": 3,
   "id": "279dc9cf",
   "metadata": {},
   "outputs": [],
   "source": [
    "# Set up the initial environment\n",
    "NUM_ACTIONS = 4\n",
    "ACTIONS = [(1, 0), (0, -1), (-1, 0), (0, 1)] # Down, Left, Up, Right\n",
    "NUM_ROW = 4\n",
    "NUM_COL = 4\n",
    "U = [[0, 0, 0, -2], [0, 0, 0, 0], [0, 0, 0, 0], [0, 0, 0, 2]]"
   ]
  },
  {
   "cell_type": "code",
   "execution_count": 4,
   "id": "fa399f6d",
   "metadata": {},
   "outputs": [],
   "source": [
    "# Visualization\n",
    "def printEnvironment(arr, policy=False):\n",
    "    res = \"\"\n",
    "    for r in range(NUM_ROW):\n",
    "        res += \"|\"\n",
    "        for c in range(NUM_COL):\n",
    "            if r ==1 and c == 2:\n",
    "                val = \"WALL\"\n",
    "            elif r ==0  and c == 3:\n",
    "                val = \"-2\"    \n",
    "            elif r == 3 and c==3:\n",
    "                val = \"2\"\n",
    "            else:\n",
    "                if policy:\n",
    "                    val = [\"Down\", \"Left\", \"Up\", \"Right\"][arr[r][c]]\n",
    "                else:\n",
    "                    val = str(arr[r][c])\n",
    "            res += \" \" + val[:5].ljust(5) + \" |\" # format\n",
    "        res += \"\\n\"\n",
    "    print(res)"
   ]
  },
  {
   "cell_type": "code",
   "execution_count": 5,
   "id": "cd981212",
   "metadata": {},
   "outputs": [],
   "source": [
    "# Get the utility of the state reached by performing the given action from the given state\n",
    "def getU(U, r, c, action):\n",
    "    dr, dc = ACTIONS[action]\n",
    "    newR, newC = r+dr, c+dc\n",
    "    if newR < 0 or newC < 0 or newR >= NUM_ROW or newC >= NUM_COL or (newR == newC == 1): # collide with the boundary or the wall\n",
    "        return U[r][c]\n",
    "    else:\n",
    "        return U[newR][newC]"
   ]
  },
  {
   "cell_type": "code",
   "execution_count": 6,
   "id": "c881009d",
   "metadata": {},
   "outputs": [],
   "source": [
    "# Calculate the utility of a state given an action\n",
    "def calculateU(U, r, c, action):\n",
    "    u = REWARD\n",
    "    u += 0.2 * DISCOUNT * getU(U, r, c, (action-1)%4)\n",
    "    u += 0.6 * DISCOUNT * getU(U, r, c, action)\n",
    "    u += 0.2 * DISCOUNT * getU(U, r, c, (action+1)%4)\n",
    "    return u"
   ]
  },
  {
   "cell_type": "code",
   "execution_count": 7,
   "id": "079ee3a6",
   "metadata": {},
   "outputs": [],
   "source": [
    "def valueIteration(U):\n",
    "    print(\"During the value iteration:\\n\")\n",
    "    while True:\n",
    "        nextU = [[0, 0, 0, -2], [0, 0, 0, 0], [0, 0, 0, 0], [0, 0, 0, 2]]\n",
    "        error = 0\n",
    "        for r in range(NUM_ROW):\n",
    "            for c in range(NUM_COL):\n",
    "                if (r == 0 and c == 3) or (r == 3 and c == 3) or (r == 1 and c == 2):\n",
    "                    continue\n",
    "                nextU[r][c] = max([calculateU(U, r, c, action) for action in range(NUM_ACTIONS)]) # Bellman update\n",
    "                error = max(error, abs(nextU[r][c]-U[r][c]))\n",
    "        U = nextU\n",
    "        printEnvironment(U)\n",
    "        if error < MAX_ERROR * (1-DISCOUNT) / DISCOUNT:\n",
    "            break\n",
    "    return U"
   ]
  },
  {
   "cell_type": "code",
   "execution_count": 8,
   "id": "a723cb44",
   "metadata": {},
   "outputs": [],
   "source": [
    "# Get the optimal policy from U\n",
    "def getOptimalPolicy(U):\n",
    "    policy = [[-1, -1, -1, -1] for i in range(NUM_ROW)]\n",
    "    for r in range(NUM_ROW):\n",
    "        for c in range(NUM_COL):\n",
    "            if (r == 0 and c == 3) or (r == 3 and c == 3) or (r == 1 and c == 2):\n",
    "                continue\n",
    "            # Choose the action that maximizes the utility\n",
    "            maxAction, maxU = None, -float(\"inf\")\n",
    "            for action in range(NUM_ACTIONS):\n",
    "                u = calculateU(U, r, c, action)\n",
    "                if u > maxU:\n",
    "                    maxAction, maxU = action, u\n",
    "            policy[r][c] = maxAction\n",
    "    return policy"
   ]
  },
  {
   "cell_type": "code",
   "execution_count": 9,
   "id": "a3c7216b",
   "metadata": {},
   "outputs": [
    {
     "name": "stdout",
     "output_type": "stream",
     "text": [
      "The initial U is:\n",
      "\n",
      "| 0     | 0     | 0     | -2    |\n",
      "| 0     | 0     | WALL  | 0     |\n",
      "| 0     | 0     | 0     | 0     |\n",
      "| 0     | 0     | 0     | 2     |\n",
      "\n"
     ]
    }
   ],
   "source": [
    "# Print the initial environment\n",
    "print(\"The initial U is:\\n\")\n",
    "printEnvironment(U)"
   ]
  },
  {
   "cell_type": "markdown",
   "id": "df9d591a",
   "metadata": {},
   "source": [
    "Convergence:"
   ]
  },
  {
   "cell_type": "code",
   "execution_count": 10,
   "id": "4a9139a0",
   "metadata": {},
   "outputs": [
    {
     "name": "stdout",
     "output_type": "stream",
     "text": [
      "During the value iteration:\n",
      "\n",
      "| -0.1  | -0.1  | -0.1  | -2    |\n",
      "| -0.1  | -0.1  | WALL  | -0.1  |\n",
      "| -0.1  | -0.1  | -0.1  | 0.74  |\n",
      "| -0.1  | -0.1  | 0.74  | 2     |\n",
      "\n",
      "| -0.16 | -0.16 | -0.15 | -2    |\n",
      "| -0.16 | -0.12 | WALL  | 0.196 |\n",
      "| -0.16 | -0.16 | 0.314 | 0.829 |\n",
      "| -0.16 | 0.182 | 0.829 | 2     |\n",
      "\n",
      "| -0.21 | -0.21 | -0.19 | -2    |\n",
      "| -0.21 | -0.14 | WALL  | 0.275 |\n",
      "| -0.21 | 0.033 | 0.364 | 0.900 |\n",
      "| -0.07 | 0.250 | 0.900 | 2     |\n",
      "\n",
      "| -0.25 | -0.24 | -0.21 | -2    |\n",
      "| -0.25 | -0.11 | WALL  | 0.316 |\n",
      "| -0.12 | 0.092 | 0.408 | 0.917 |\n",
      "| -0.03 | 0.317 | 0.917 | 2     |\n",
      "\n",
      "| -0.27 | -0.25 | -0.23 | -2    |\n",
      "| -0.22 | -0.09 | WALL  | 0.329 |\n",
      "| -0.10 | 0.129 | 0.426 | 0.925 |\n",
      "| 0.010 | 0.342 | 0.925 | 2     |\n",
      "\n",
      "| -0.26 | -0.26 | -0.24 | -2    |\n",
      "| -0.20 | -0.07 | WALL  | 0.334 |\n",
      "| -0.07 | 0.145 | 0.436 | 0.929 |\n",
      "| 0.031 | 0.354 | 0.929 | 2     |\n",
      "\n",
      "| -0.26 | -0.27 | -0.24 | -2    |\n",
      "| -0.18 | -0.06 | WALL  | 0.337 |\n",
      "| -0.06 | 0.153 | 0.440 | 0.931 |\n",
      "| 0.042 | 0.360 | 0.931 | 2     |\n",
      "\n",
      "| -0.25 | -0.28 | -0.25 | -2    |\n",
      "| -0.17 | -0.06 | WALL  | 0.338 |\n",
      "| -0.05 | 0.157 | 0.442 | 0.932 |\n",
      "| 0.048 | 0.363 | 0.932 | 2     |\n",
      "\n",
      "| -0.25 | -0.28 | -0.25 | -2    |\n",
      "| -0.17 | -0.05 | WALL  | 0.338 |\n",
      "| -0.05 | 0.158 | 0.443 | 0.932 |\n",
      "| 0.051 | 0.364 | 0.932 | 2     |\n",
      "\n",
      "| -0.24 | -0.28 | -0.25 | -2    |\n",
      "| -0.17 | -0.05 | WALL  | 0.339 |\n",
      "| -0.05 | 0.159 | 0.444 | 0.932 |\n",
      "| 0.052 | 0.364 | 0.932 | 2     |\n",
      "\n",
      "| -0.24 | -0.28 | -0.25 | -2    |\n",
      "| -0.16 | -0.05 | WALL  | 0.339 |\n",
      "| -0.04 | 0.160 | 0.444 | 0.932 |\n",
      "| 0.053 | 0.365 | 0.932 | 2     |\n",
      "\n",
      "| -0.24 | -0.28 | -0.25 | -2    |\n",
      "| -0.16 | -0.05 | WALL  | 0.339 |\n",
      "| -0.04 | 0.160 | 0.444 | 0.932 |\n",
      "| 0.053 | 0.365 | 0.932 | 2     |\n",
      "\n",
      "| -0.24 | -0.28 | -0.25 | -2    |\n",
      "| -0.16 | -0.05 | WALL  | 0.339 |\n",
      "| -0.04 | 0.160 | 0.444 | 0.932 |\n",
      "| 0.054 | 0.365 | 0.932 | 2     |\n",
      "\n",
      "| -0.24 | -0.28 | -0.25 | -2    |\n",
      "| -0.16 | -0.05 | WALL  | 0.339 |\n",
      "| -0.04 | 0.160 | 0.444 | 0.932 |\n",
      "| 0.054 | 0.365 | 0.932 | 2     |\n",
      "\n",
      "| -0.24 | -0.28 | -0.25 | -2    |\n",
      "| -0.16 | -0.05 | WALL  | 0.339 |\n",
      "| -0.04 | 0.160 | 0.444 | 0.932 |\n",
      "| 0.054 | 0.365 | 0.932 | 2     |\n",
      "\n"
     ]
    }
   ],
   "source": [
    "# Value iteration\n",
    "U = valueIteration(U)"
   ]
  },
  {
   "cell_type": "markdown",
   "id": "380a5be3",
   "metadata": {},
   "source": [
    "Optimal policy:"
   ]
  },
  {
   "cell_type": "code",
   "execution_count": 11,
   "id": "4f6e9878",
   "metadata": {},
   "outputs": [
    {
     "name": "stdout",
     "output_type": "stream",
     "text": [
      "The optimal policy is:\n",
      "\n",
      "| Down  | Left  | Left  | -2    |\n",
      "| Down  | Down  | WALL  | Down  |\n",
      "| Right | Right | Down  | Down  |\n",
      "| Right | Right | Right | 2     |\n",
      "\n"
     ]
    }
   ],
   "source": [
    "# Get the optimal policy from U and print it\n",
    "policy = getOptimalPolicy(U)\n",
    "print(\"The optimal policy is:\\n\")\n",
    "printEnvironment(policy, True)"
   ]
  },
  {
   "cell_type": "code",
   "execution_count": null,
   "id": "4f0f66fd",
   "metadata": {},
   "outputs": [],
   "source": []
  }
 ],
 "metadata": {
  "kernelspec": {
   "display_name": "Python 3 (ipykernel)",
   "language": "python",
   "name": "python3"
  },
  "language_info": {
   "codemirror_mode": {
    "name": "ipython",
    "version": 3
   },
   "file_extension": ".py",
   "mimetype": "text/x-python",
   "name": "python",
   "nbconvert_exporter": "python",
   "pygments_lexer": "ipython3",
   "version": "3.9.7"
  }
 },
 "nbformat": 4,
 "nbformat_minor": 5
}
